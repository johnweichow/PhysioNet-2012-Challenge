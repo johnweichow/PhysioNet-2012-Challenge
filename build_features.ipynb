{
 "cells": [
  {
   "cell_type": "code",
   "execution_count": 98,
   "metadata": {},
   "outputs": [],
   "source": [
    "import pandas as pd\n",
    "import numpy as np\n",
    "import os\n",
    "import math\n",
    "from tsfresh.feature_extraction import extract_features"
   ]
  },
  {
   "cell_type": "code",
   "execution_count": 10,
   "metadata": {},
   "outputs": [],
   "source": [
    "# import data\n",
    "filepath = os.path.join('.', 'data')\n",
    "df_ts = pd.read_csv(os.path.join(filepath, 'interim', 'set-a_timeseries.csv'))\n",
    "df_gen_desc = pd.read_csv(os.path.join(filepath, 'interim', 'set-a_general-descriptors.csv'))\n",
    "df_outcomes = pd.read_csv(os.path.join(filepath, 'raw', 'Outcomes-a.txt'))"
   ]
  },
  {
   "cell_type": "code",
   "execution_count": 200,
   "metadata": {},
   "outputs": [],
   "source": [
    "# pivot general descriptors so each row is one ID\n",
    "df_gen_desc = pd.pivot_table(df_gen_desc, values='Value', index='RecordID', columns='Parameter').reset_index()"
   ]
  },
  {
   "cell_type": "code",
   "execution_count": 179,
   "metadata": {},
   "outputs": [
    {
     "name": "stderr",
     "output_type": "stream",
     "text": [
      "Feature Extraction: 100%|██████████| 30/30 [00:12<00:00,  3.57it/s]\n"
     ]
    }
   ],
   "source": [
    "# create list of features to calculate for each patient parameter. \n",
    "default_fc_params_custom = {'median': None,\n",
    "                            'variance': None,\n",
    "                            'maximum': None,\n",
    "                            'minimum': None,\n",
    "                            'length': None, #denotes count\n",
    "                            'linear_trend': [{'attr': 'slope'}]}\n",
    "\n",
    "# create features that count the occurences of parameters in certain ranges. Approach is based on \n",
    "# SAPS-II scoring system, where a patient's risk score increases for values that are too low or high\n",
    "kind_to_fc_params_custom = {\n",
    "    'HR': {'range_count': [{'min': 120, 'max': 9999},\n",
    "                           {'min': 70, 'max': 119},\n",
    "                           {'min': 40, 'max': 69},\n",
    "                           {'min': 0, 'max': 39}]},\n",
    "    'SysABP': {'range_count': [{'min': 200, 'max': 9999},\n",
    "                           {'min': 100, 'max': 199},\n",
    "                           {'min': 70, 'max': 99},\n",
    "                           {'min': 0, 'max': 69}]},\n",
    "    'Na': {'range_count': [{'min': 145, 'max': 9999},\n",
    "                           {'min': 125, 'max': 144},\n",
    "                           {'min': 0, 'max': 124}]},\n",
    "    'K': {'range_count': [{'min': 5.0, 'max': 9999},\n",
    "                           {'min': 3.0, 'max': 4.9},\n",
    "                           {'min': 0, 'max': 3.0}]},\n",
    "    'WBC': {'range_count': [{'min': 20.1, 'max': 9999},\n",
    "                           {'min': 1.01, 'max': 20},\n",
    "                           {'min': 0, 'max': 1.0}]},\n",
    "}\n",
    "\n",
    "df_ts_tsfresh = extract_features(df_ts.dropna().set_index('Time'), column_id = 'RecordID',\n",
    "                                  column_kind = 'Parameter', column_value='Value',\n",
    "                                  default_fc_parameters=default_fc_params_custom,\n",
    "                                  kind_to_fc_parameters=kind_to_fc_params_custom)"
   ]
  },
  {
   "cell_type": "code",
   "execution_count": 181,
   "metadata": {},
   "outputs": [],
   "source": [
    "df_ts_tsfresh = df_ts_tsfresh.reset_index().rename(columns={'id':'RecordID'})"
   ]
  },
  {
   "cell_type": "code",
   "execution_count": 168,
   "metadata": {},
   "outputs": [],
   "source": [
    "def flatten_columns(df):\n",
    "    '''Flattens the levels of a dataframe with MultiIndex columns by joining values with '_' '''\n",
    "    df.columns = ['_'.join(col).rstrip('_') for col in df.columns.values]\n",
    "    return df\n",
    "\n",
    "def drop_and_flatten(df):\n",
    "    df.columns = df.columns.droplevel(0) #drops unwanted 'Value level'\n",
    "    df = flatten_columns(df)\n",
    "    df.reset_index(inplace=True)\n",
    "    return df"
   ]
  },
  {
   "cell_type": "code",
   "execution_count": 169,
   "metadata": {},
   "outputs": [],
   "source": [
    "# get first and last values in timeseries for each patient parameter: df_ts_fist_last\n",
    "df_ts_first_last = (df_ts.loc[:, ['RecordID', 'Parameter', 'Value']]\n",
    "                         .groupby(['RecordID', 'Parameter'])\n",
    "                         .agg(['first', 'last'])\n",
    "                         .unstack())\n",
    "\n",
    "df_ts_first_last = df_ts_first_last.swaplevel(axis=1)\n",
    "\n",
    "df_ts_first_last = drop_and_flatten(df_ts_first_last)"
   ]
  },
  {
   "cell_type": "code",
   "execution_count": 170,
   "metadata": {},
   "outputs": [],
   "source": [
    "# calculte the mean value of each parameter over each 6 hour period\n",
    "TIME_PERIOD = 6\n",
    "df_ts['Time_group'] = df_ts['Time'].apply(lambda x: 'hrs-' + str(math.trunc((x-1)/(TIME_PERIOD * 60))*TIME_PERIOD + 1)\n",
    "                                                           + '-'\n",
    "                                                           + str((math.trunc((x-1)/(TIME_PERIOD * 60))+1)*TIME_PERIOD))\n",
    "\n",
    "df_ts_means = (df_ts.loc[:, ['RecordID', 'Parameter', 'Time_group', 'Value']]\n",
    "                         .groupby(['RecordID', 'Parameter', 'Time_group'])\n",
    "                         .agg(['mean'])\n",
    "                         .unstack()\n",
    "                         .unstack())\n",
    "\n",
    "df_ts_means = df_ts_means.swaplevel(i=-2, j=-1, axis=1)\n",
    "df_ts_means = df_ts_means.swaplevel(i=-3, j=-2, axis=1)\n",
    "\n",
    "df_ts_means = drop_and_flatten(df_ts_means)"
   ]
  },
  {
   "cell_type": "code",
   "execution_count": 203,
   "metadata": {},
   "outputs": [],
   "source": [
    "# merge timeseries features with general descriptors into one dataframe\n",
    "df_features = (pd.merge(df_gen_desc, df_ts_tsfresh, how='left', on='RecordID', validate='1:1')\n",
    "                 .merge(df_ts_first_last, how='left', on='RecordID', validate='1:1')\n",
    "                 .merge(df_ts_means, how='left', on='RecordID', validate='1:1')\n",
    "              )"
   ]
  }
 ],
 "metadata": {
  "kernelspec": {
   "display_name": "Python 3",
   "language": "python",
   "name": "python3"
  },
  "language_info": {
   "codemirror_mode": {
    "name": "ipython",
    "version": 3
   },
   "file_extension": ".py",
   "mimetype": "text/x-python",
   "name": "python",
   "nbconvert_exporter": "python",
   "pygments_lexer": "ipython3",
   "version": "3.7.1"
  }
 },
 "nbformat": 4,
 "nbformat_minor": 2
}
