{
 "cells": [
  {
   "cell_type": "code",
   "execution_count": 1,
   "metadata": {},
   "outputs": [],
   "source": [
    "import pandas as pd\n",
    "import numpy as np\n",
    "import os\n",
    "import wget"
   ]
  },
  {
   "cell_type": "code",
   "execution_count": 2,
   "metadata": {},
   "outputs": [],
   "source": [
    "filepath = os.path.join('.', 'data', 'raw')\n",
    "os.makedirs(filepath)\n",
    "wget.download('https://physionet.org/files/challenge-2012/1.0.0/set-a.zip', filepath)\n",
    "wget.download('https://physionet.org/files/challenge-2012/1.0.0/Outcomes-a.txt', filepath)\n",
    "\n",
    "os.chdir(filepath)\n",
    "!unzip -u -q set-a.zip\n",
    "os.chdir(os.path.join(os.pardir, os.pardir))"
   ]
  },
  {
   "cell_type": "code",
   "execution_count": 3,
   "metadata": {},
   "outputs": [],
   "source": [
    "# join patient files into one dataframe\n",
    "df = pd.DataFrame()\n",
    "fp = os.path.join('.', 'data', 'raw', 'set-a')\n",
    "for filename in os.listdir(fp):\n",
    "    with open(os.path.join(fp, filename), 'r') as openfile:\n",
    "        df_temp = pd.read_csv(openfile)\n",
    "        df_temp['RecordID'] = df_temp[df_temp['Parameter']=='RecordID'].at[0,'Value'].astype(int) # create RecordID column\n",
    "        df = pd.concat([df, df_temp], ignore_index=True)\n",
    "\n",
    "# set negative values to null\n",
    "df.loc[df['Value']<0, 'Value'] = np.nan"
   ]
  },
  {
   "cell_type": "code",
   "execution_count": 4,
   "metadata": {},
   "outputs": [],
   "source": [
    "# create a separate dataframe w/ general descriptors\n",
    "df_gen_desc = df.loc[df['Time']=='00:00', :].copy()\n",
    "df_gen_desc = df_gen_desc.loc[df['Parameter'].isin(['Weight', 'Gender', 'Height', 'ICUType', 'Age'])]\n",
    "\n",
    "# Get only the last value per parameter per patient, as some patients have multiple values for Age\n",
    "df_gen_desc = df_gen_desc.groupby(['RecordID', 'Parameter'])[['Value']].last().reset_index()\n",
    "\n",
    "# drop general descriptors from original dataframe, except for weight, which is recorded as a timeseries\n",
    "df = df[~df['Parameter'].isin(['RecordID', 'Gender', 'Height', 'ICUType', 'Age'])]\n",
    "\n",
    "# convert time from string to minutes elapsed\n",
    "df['Time'] = df['Time'].map(lambda x: int(x.split(':')[0])*60 + int(x.split(':')[1]))"
   ]
  },
  {
   "cell_type": "code",
   "execution_count": 5,
   "metadata": {},
   "outputs": [],
   "source": [
    "# save prepared data to disk\n",
    "filepath = os.path.join('.', 'data', 'interim')\n",
    "os.makedirs(filepath)\n",
    "os.chdir(filepath)\n",
    "df.to_csv('set-a_timeseries.csv', index=False)\n",
    "df_gen_desc.to_csv('set-a_general-descriptors.csv', index=False)\n",
    "os.chdir(os.path.join(os.pardir, os.pardir))"
   ]
  }
 ],
 "metadata": {
  "kernelspec": {
   "display_name": "Python 3",
   "language": "python",
   "name": "python3"
  },
  "language_info": {
   "codemirror_mode": {
    "name": "ipython",
    "version": 3
   },
   "file_extension": ".py",
   "mimetype": "text/x-python",
   "name": "python",
   "nbconvert_exporter": "python",
   "pygments_lexer": "ipython3",
   "version": "3.7.1"
  }
 },
 "nbformat": 4,
 "nbformat_minor": 2
}
